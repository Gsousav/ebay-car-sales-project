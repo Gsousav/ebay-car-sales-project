{
 "cells": [
  {
   "cell_type": "markdown",
   "id": "ee01dc05-f29b-4e90-9cfd-1d89d1a74d10",
   "metadata": {},
   "source": [
    "In this project i will be exploring ebay car sales data. First i will be performing data cleaning to perform some analysis afterwards"
   ]
  },
  {
   "cell_type": "code",
   "execution_count": 1,
   "id": "97337506-98b1-484f-b7ca-be926e8db1a7",
   "metadata": {
    "tags": []
   },
   "outputs": [],
   "source": [
    "import numpy as np\n",
    "import pandas as pd"
   ]
  },
  {
   "cell_type": "code",
   "execution_count": 2,
   "id": "0ad79648-851e-4a09-be8e-e7a5b2fc3c42",
   "metadata": {
    "tags": []
   },
   "outputs": [],
   "source": [
    "autos = pd.read_csv(\"autos.csv\", encoding=\"latin1\")"
   ]
  },
  {
   "cell_type": "code",
   "execution_count": 3,
   "id": "55b0c0cc-ce0c-4807-a398-b3a671f71cbe",
   "metadata": {
    "tags": []
   },
   "outputs": [
    {
     "name": "stdout",
     "output_type": "stream",
     "text": [
      "<class 'pandas.core.frame.DataFrame'>\n",
      "RangeIndex: 50000 entries, 0 to 49999\n",
      "Data columns (total 20 columns):\n",
      " #   Column               Non-Null Count  Dtype \n",
      "---  ------               --------------  ----- \n",
      " 0   dateCrawled          50000 non-null  object\n",
      " 1   name                 50000 non-null  object\n",
      " 2   seller               50000 non-null  object\n",
      " 3   offerType            50000 non-null  object\n",
      " 4   price                50000 non-null  object\n",
      " 5   abtest               50000 non-null  object\n",
      " 6   vehicleType          44905 non-null  object\n",
      " 7   yearOfRegistration   50000 non-null  int64 \n",
      " 8   gearbox              47320 non-null  object\n",
      " 9   powerPS              50000 non-null  int64 \n",
      " 10  model                47242 non-null  object\n",
      " 11  odometer             50000 non-null  object\n",
      " 12  monthOfRegistration  50000 non-null  int64 \n",
      " 13  fuelType             45518 non-null  object\n",
      " 14  brand                50000 non-null  object\n",
      " 15  notRepairedDamage    40171 non-null  object\n",
      " 16  dateCreated          50000 non-null  object\n",
      " 17  nrOfPictures         50000 non-null  int64 \n",
      " 18  postalCode           50000 non-null  int64 \n",
      " 19  lastSeen             50000 non-null  object\n",
      "dtypes: int64(5), object(15)\n",
      "memory usage: 7.6+ MB\n"
     ]
    },
    {
     "data": {
      "text/html": [
       "<div>\n",
       "<style scoped>\n",
       "    .dataframe tbody tr th:only-of-type {\n",
       "        vertical-align: middle;\n",
       "    }\n",
       "\n",
       "    .dataframe tbody tr th {\n",
       "        vertical-align: top;\n",
       "    }\n",
       "\n",
       "    .dataframe thead th {\n",
       "        text-align: right;\n",
       "    }\n",
       "</style>\n",
       "<table border=\"1\" class=\"dataframe\">\n",
       "  <thead>\n",
       "    <tr style=\"text-align: right;\">\n",
       "      <th></th>\n",
       "      <th>dateCrawled</th>\n",
       "      <th>name</th>\n",
       "      <th>seller</th>\n",
       "      <th>offerType</th>\n",
       "      <th>price</th>\n",
       "      <th>abtest</th>\n",
       "      <th>vehicleType</th>\n",
       "      <th>yearOfRegistration</th>\n",
       "      <th>gearbox</th>\n",
       "      <th>powerPS</th>\n",
       "      <th>model</th>\n",
       "      <th>odometer</th>\n",
       "      <th>monthOfRegistration</th>\n",
       "      <th>fuelType</th>\n",
       "      <th>brand</th>\n",
       "      <th>notRepairedDamage</th>\n",
       "      <th>dateCreated</th>\n",
       "      <th>nrOfPictures</th>\n",
       "      <th>postalCode</th>\n",
       "      <th>lastSeen</th>\n",
       "    </tr>\n",
       "  </thead>\n",
       "  <tbody>\n",
       "    <tr>\n",
       "      <th>0</th>\n",
       "      <td>2016-03-26 17:47:46</td>\n",
       "      <td>Peugeot_807_160_NAVTECH_ON_BOARD</td>\n",
       "      <td>privat</td>\n",
       "      <td>Angebot</td>\n",
       "      <td>$5,000</td>\n",
       "      <td>control</td>\n",
       "      <td>bus</td>\n",
       "      <td>2004</td>\n",
       "      <td>manuell</td>\n",
       "      <td>158</td>\n",
       "      <td>andere</td>\n",
       "      <td>150,000km</td>\n",
       "      <td>3</td>\n",
       "      <td>lpg</td>\n",
       "      <td>peugeot</td>\n",
       "      <td>nein</td>\n",
       "      <td>2016-03-26 00:00:00</td>\n",
       "      <td>0</td>\n",
       "      <td>79588</td>\n",
       "      <td>2016-04-06 06:45:54</td>\n",
       "    </tr>\n",
       "    <tr>\n",
       "      <th>1</th>\n",
       "      <td>2016-04-04 13:38:56</td>\n",
       "      <td>BMW_740i_4_4_Liter_HAMANN_UMBAU_Mega_Optik</td>\n",
       "      <td>privat</td>\n",
       "      <td>Angebot</td>\n",
       "      <td>$8,500</td>\n",
       "      <td>control</td>\n",
       "      <td>limousine</td>\n",
       "      <td>1997</td>\n",
       "      <td>automatik</td>\n",
       "      <td>286</td>\n",
       "      <td>7er</td>\n",
       "      <td>150,000km</td>\n",
       "      <td>6</td>\n",
       "      <td>benzin</td>\n",
       "      <td>bmw</td>\n",
       "      <td>nein</td>\n",
       "      <td>2016-04-04 00:00:00</td>\n",
       "      <td>0</td>\n",
       "      <td>71034</td>\n",
       "      <td>2016-04-06 14:45:08</td>\n",
       "    </tr>\n",
       "    <tr>\n",
       "      <th>2</th>\n",
       "      <td>2016-03-26 18:57:24</td>\n",
       "      <td>Volkswagen_Golf_1.6_United</td>\n",
       "      <td>privat</td>\n",
       "      <td>Angebot</td>\n",
       "      <td>$8,990</td>\n",
       "      <td>test</td>\n",
       "      <td>limousine</td>\n",
       "      <td>2009</td>\n",
       "      <td>manuell</td>\n",
       "      <td>102</td>\n",
       "      <td>golf</td>\n",
       "      <td>70,000km</td>\n",
       "      <td>7</td>\n",
       "      <td>benzin</td>\n",
       "      <td>volkswagen</td>\n",
       "      <td>nein</td>\n",
       "      <td>2016-03-26 00:00:00</td>\n",
       "      <td>0</td>\n",
       "      <td>35394</td>\n",
       "      <td>2016-04-06 20:15:37</td>\n",
       "    </tr>\n",
       "    <tr>\n",
       "      <th>3</th>\n",
       "      <td>2016-03-12 16:58:10</td>\n",
       "      <td>Smart_smart_fortwo_coupe_softouch/F1/Klima/Pan...</td>\n",
       "      <td>privat</td>\n",
       "      <td>Angebot</td>\n",
       "      <td>$4,350</td>\n",
       "      <td>control</td>\n",
       "      <td>kleinwagen</td>\n",
       "      <td>2007</td>\n",
       "      <td>automatik</td>\n",
       "      <td>71</td>\n",
       "      <td>fortwo</td>\n",
       "      <td>70,000km</td>\n",
       "      <td>6</td>\n",
       "      <td>benzin</td>\n",
       "      <td>smart</td>\n",
       "      <td>nein</td>\n",
       "      <td>2016-03-12 00:00:00</td>\n",
       "      <td>0</td>\n",
       "      <td>33729</td>\n",
       "      <td>2016-03-15 03:16:28</td>\n",
       "    </tr>\n",
       "    <tr>\n",
       "      <th>4</th>\n",
       "      <td>2016-04-01 14:38:50</td>\n",
       "      <td>Ford_Focus_1_6_Benzin_TÜV_neu_ist_sehr_gepfleg...</td>\n",
       "      <td>privat</td>\n",
       "      <td>Angebot</td>\n",
       "      <td>$1,350</td>\n",
       "      <td>test</td>\n",
       "      <td>kombi</td>\n",
       "      <td>2003</td>\n",
       "      <td>manuell</td>\n",
       "      <td>0</td>\n",
       "      <td>focus</td>\n",
       "      <td>150,000km</td>\n",
       "      <td>7</td>\n",
       "      <td>benzin</td>\n",
       "      <td>ford</td>\n",
       "      <td>nein</td>\n",
       "      <td>2016-04-01 00:00:00</td>\n",
       "      <td>0</td>\n",
       "      <td>39218</td>\n",
       "      <td>2016-04-01 14:38:50</td>\n",
       "    </tr>\n",
       "  </tbody>\n",
       "</table>\n",
       "</div>"
      ],
      "text/plain": [
       "           dateCrawled                                               name  \\\n",
       "0  2016-03-26 17:47:46                   Peugeot_807_160_NAVTECH_ON_BOARD   \n",
       "1  2016-04-04 13:38:56         BMW_740i_4_4_Liter_HAMANN_UMBAU_Mega_Optik   \n",
       "2  2016-03-26 18:57:24                         Volkswagen_Golf_1.6_United   \n",
       "3  2016-03-12 16:58:10  Smart_smart_fortwo_coupe_softouch/F1/Klima/Pan...   \n",
       "4  2016-04-01 14:38:50  Ford_Focus_1_6_Benzin_TÜV_neu_ist_sehr_gepfleg...   \n",
       "\n",
       "   seller offerType   price   abtest vehicleType  yearOfRegistration  \\\n",
       "0  privat   Angebot  $5,000  control         bus                2004   \n",
       "1  privat   Angebot  $8,500  control   limousine                1997   \n",
       "2  privat   Angebot  $8,990     test   limousine                2009   \n",
       "3  privat   Angebot  $4,350  control  kleinwagen                2007   \n",
       "4  privat   Angebot  $1,350     test       kombi                2003   \n",
       "\n",
       "     gearbox  powerPS   model   odometer  monthOfRegistration fuelType  \\\n",
       "0    manuell      158  andere  150,000km                    3      lpg   \n",
       "1  automatik      286     7er  150,000km                    6   benzin   \n",
       "2    manuell      102    golf   70,000km                    7   benzin   \n",
       "3  automatik       71  fortwo   70,000km                    6   benzin   \n",
       "4    manuell        0   focus  150,000km                    7   benzin   \n",
       "\n",
       "        brand notRepairedDamage          dateCreated  nrOfPictures  \\\n",
       "0     peugeot              nein  2016-03-26 00:00:00             0   \n",
       "1         bmw              nein  2016-04-04 00:00:00             0   \n",
       "2  volkswagen              nein  2016-03-26 00:00:00             0   \n",
       "3       smart              nein  2016-03-12 00:00:00             0   \n",
       "4        ford              nein  2016-04-01 00:00:00             0   \n",
       "\n",
       "   postalCode             lastSeen  \n",
       "0       79588  2016-04-06 06:45:54  \n",
       "1       71034  2016-04-06 14:45:08  \n",
       "2       35394  2016-04-06 20:15:37  \n",
       "3       33729  2016-03-15 03:16:28  \n",
       "4       39218  2016-04-01 14:38:50  "
      ]
     },
     "execution_count": 3,
     "metadata": {},
     "output_type": "execute_result"
    }
   ],
   "source": [
    "autos.info()\n",
    "autos.head()"
   ]
  },
  {
   "cell_type": "markdown",
   "id": "aaf86883-fe8e-4b1f-9ec2-856e015de08f",
   "metadata": {},
   "source": [
    "From the information above, the dataset contains 50,000 rows and 20 columns, 15 of which are objects, and 5 of which are numerical"
   ]
  },
  {
   "cell_type": "code",
   "execution_count": 4,
   "id": "7d29903b-854c-4aa5-b066-3c536dd17ba8",
   "metadata": {
    "tags": []
   },
   "outputs": [
    {
     "data": {
      "text/plain": [
       "Index(['dateCrawled', 'name', 'seller', 'offerType', 'price', 'abtest',\n",
       "       'vehicleType', 'yearOfRegistration', 'gearbox', 'powerPS', 'model',\n",
       "       'odometer', 'monthOfRegistration', 'fuelType', 'brand',\n",
       "       'notRepairedDamage', 'dateCreated', 'nrOfPictures', 'postalCode',\n",
       "       'lastSeen'],\n",
       "      dtype='object')"
      ]
     },
     "execution_count": 4,
     "metadata": {},
     "output_type": "execute_result"
    }
   ],
   "source": [
    "autos.columns"
   ]
  },
  {
   "cell_type": "code",
   "execution_count": 5,
   "id": "d8728bb8-c94b-4e75-90b2-97e83f7814af",
   "metadata": {
    "tags": []
   },
   "outputs": [
    {
     "data": {
      "text/html": [
       "<div>\n",
       "<style scoped>\n",
       "    .dataframe tbody tr th:only-of-type {\n",
       "        vertical-align: middle;\n",
       "    }\n",
       "\n",
       "    .dataframe tbody tr th {\n",
       "        vertical-align: top;\n",
       "    }\n",
       "\n",
       "    .dataframe thead th {\n",
       "        text-align: right;\n",
       "    }\n",
       "</style>\n",
       "<table border=\"1\" class=\"dataframe\">\n",
       "  <thead>\n",
       "    <tr style=\"text-align: right;\">\n",
       "      <th></th>\n",
       "      <th>date_crawled</th>\n",
       "      <th>name</th>\n",
       "      <th>seller</th>\n",
       "      <th>offer_type</th>\n",
       "      <th>price</th>\n",
       "      <th>abtest</th>\n",
       "      <th>vehicle_type</th>\n",
       "      <th>registration_year</th>\n",
       "      <th>gearbox</th>\n",
       "      <th>power_ps</th>\n",
       "      <th>model</th>\n",
       "      <th>odometer</th>\n",
       "      <th>registration_month</th>\n",
       "      <th>fuel_type</th>\n",
       "      <th>brand</th>\n",
       "      <th>unrepaired_damage</th>\n",
       "      <th>date_created</th>\n",
       "      <th>nr_of_pictures</th>\n",
       "      <th>postal_code</th>\n",
       "      <th>last_seen</th>\n",
       "    </tr>\n",
       "  </thead>\n",
       "  <tbody>\n",
       "    <tr>\n",
       "      <th>0</th>\n",
       "      <td>2016-03-26 17:47:46</td>\n",
       "      <td>Peugeot_807_160_NAVTECH_ON_BOARD</td>\n",
       "      <td>privat</td>\n",
       "      <td>Angebot</td>\n",
       "      <td>$5,000</td>\n",
       "      <td>control</td>\n",
       "      <td>bus</td>\n",
       "      <td>2004</td>\n",
       "      <td>manuell</td>\n",
       "      <td>158</td>\n",
       "      <td>andere</td>\n",
       "      <td>150,000km</td>\n",
       "      <td>3</td>\n",
       "      <td>lpg</td>\n",
       "      <td>peugeot</td>\n",
       "      <td>nein</td>\n",
       "      <td>2016-03-26 00:00:00</td>\n",
       "      <td>0</td>\n",
       "      <td>79588</td>\n",
       "      <td>2016-04-06 06:45:54</td>\n",
       "    </tr>\n",
       "    <tr>\n",
       "      <th>1</th>\n",
       "      <td>2016-04-04 13:38:56</td>\n",
       "      <td>BMW_740i_4_4_Liter_HAMANN_UMBAU_Mega_Optik</td>\n",
       "      <td>privat</td>\n",
       "      <td>Angebot</td>\n",
       "      <td>$8,500</td>\n",
       "      <td>control</td>\n",
       "      <td>limousine</td>\n",
       "      <td>1997</td>\n",
       "      <td>automatik</td>\n",
       "      <td>286</td>\n",
       "      <td>7er</td>\n",
       "      <td>150,000km</td>\n",
       "      <td>6</td>\n",
       "      <td>benzin</td>\n",
       "      <td>bmw</td>\n",
       "      <td>nein</td>\n",
       "      <td>2016-04-04 00:00:00</td>\n",
       "      <td>0</td>\n",
       "      <td>71034</td>\n",
       "      <td>2016-04-06 14:45:08</td>\n",
       "    </tr>\n",
       "    <tr>\n",
       "      <th>2</th>\n",
       "      <td>2016-03-26 18:57:24</td>\n",
       "      <td>Volkswagen_Golf_1.6_United</td>\n",
       "      <td>privat</td>\n",
       "      <td>Angebot</td>\n",
       "      <td>$8,990</td>\n",
       "      <td>test</td>\n",
       "      <td>limousine</td>\n",
       "      <td>2009</td>\n",
       "      <td>manuell</td>\n",
       "      <td>102</td>\n",
       "      <td>golf</td>\n",
       "      <td>70,000km</td>\n",
       "      <td>7</td>\n",
       "      <td>benzin</td>\n",
       "      <td>volkswagen</td>\n",
       "      <td>nein</td>\n",
       "      <td>2016-03-26 00:00:00</td>\n",
       "      <td>0</td>\n",
       "      <td>35394</td>\n",
       "      <td>2016-04-06 20:15:37</td>\n",
       "    </tr>\n",
       "    <tr>\n",
       "      <th>3</th>\n",
       "      <td>2016-03-12 16:58:10</td>\n",
       "      <td>Smart_smart_fortwo_coupe_softouch/F1/Klima/Pan...</td>\n",
       "      <td>privat</td>\n",
       "      <td>Angebot</td>\n",
       "      <td>$4,350</td>\n",
       "      <td>control</td>\n",
       "      <td>kleinwagen</td>\n",
       "      <td>2007</td>\n",
       "      <td>automatik</td>\n",
       "      <td>71</td>\n",
       "      <td>fortwo</td>\n",
       "      <td>70,000km</td>\n",
       "      <td>6</td>\n",
       "      <td>benzin</td>\n",
       "      <td>smart</td>\n",
       "      <td>nein</td>\n",
       "      <td>2016-03-12 00:00:00</td>\n",
       "      <td>0</td>\n",
       "      <td>33729</td>\n",
       "      <td>2016-03-15 03:16:28</td>\n",
       "    </tr>\n",
       "    <tr>\n",
       "      <th>4</th>\n",
       "      <td>2016-04-01 14:38:50</td>\n",
       "      <td>Ford_Focus_1_6_Benzin_TÜV_neu_ist_sehr_gepfleg...</td>\n",
       "      <td>privat</td>\n",
       "      <td>Angebot</td>\n",
       "      <td>$1,350</td>\n",
       "      <td>test</td>\n",
       "      <td>kombi</td>\n",
       "      <td>2003</td>\n",
       "      <td>manuell</td>\n",
       "      <td>0</td>\n",
       "      <td>focus</td>\n",
       "      <td>150,000km</td>\n",
       "      <td>7</td>\n",
       "      <td>benzin</td>\n",
       "      <td>ford</td>\n",
       "      <td>nein</td>\n",
       "      <td>2016-04-01 00:00:00</td>\n",
       "      <td>0</td>\n",
       "      <td>39218</td>\n",
       "      <td>2016-04-01 14:38:50</td>\n",
       "    </tr>\n",
       "  </tbody>\n",
       "</table>\n",
       "</div>"
      ],
      "text/plain": [
       "          date_crawled                                               name  \\\n",
       "0  2016-03-26 17:47:46                   Peugeot_807_160_NAVTECH_ON_BOARD   \n",
       "1  2016-04-04 13:38:56         BMW_740i_4_4_Liter_HAMANN_UMBAU_Mega_Optik   \n",
       "2  2016-03-26 18:57:24                         Volkswagen_Golf_1.6_United   \n",
       "3  2016-03-12 16:58:10  Smart_smart_fortwo_coupe_softouch/F1/Klima/Pan...   \n",
       "4  2016-04-01 14:38:50  Ford_Focus_1_6_Benzin_TÜV_neu_ist_sehr_gepfleg...   \n",
       "\n",
       "   seller offer_type   price   abtest vehicle_type  registration_year  \\\n",
       "0  privat    Angebot  $5,000  control          bus               2004   \n",
       "1  privat    Angebot  $8,500  control    limousine               1997   \n",
       "2  privat    Angebot  $8,990     test    limousine               2009   \n",
       "3  privat    Angebot  $4,350  control   kleinwagen               2007   \n",
       "4  privat    Angebot  $1,350     test        kombi               2003   \n",
       "\n",
       "     gearbox  power_ps   model   odometer  registration_month fuel_type  \\\n",
       "0    manuell       158  andere  150,000km                   3       lpg   \n",
       "1  automatik       286     7er  150,000km                   6    benzin   \n",
       "2    manuell       102    golf   70,000km                   7    benzin   \n",
       "3  automatik        71  fortwo   70,000km                   6    benzin   \n",
       "4    manuell         0   focus  150,000km                   7    benzin   \n",
       "\n",
       "        brand unrepaired_damage         date_created  nr_of_pictures  \\\n",
       "0     peugeot              nein  2016-03-26 00:00:00               0   \n",
       "1         bmw              nein  2016-04-04 00:00:00               0   \n",
       "2  volkswagen              nein  2016-03-26 00:00:00               0   \n",
       "3       smart              nein  2016-03-12 00:00:00               0   \n",
       "4        ford              nein  2016-04-01 00:00:00               0   \n",
       "\n",
       "   postal_code            last_seen  \n",
       "0        79588  2016-04-06 06:45:54  \n",
       "1        71034  2016-04-06 14:45:08  \n",
       "2        35394  2016-04-06 20:15:37  \n",
       "3        33729  2016-03-15 03:16:28  \n",
       "4        39218  2016-04-01 14:38:50  "
      ]
     },
     "execution_count": 5,
     "metadata": {},
     "output_type": "execute_result"
    }
   ],
   "source": [
    "autos.columns = ['date_crawled', 'name', 'seller', 'offer_type', 'price', 'abtest',\n",
    "       'vehicle_type', 'registration_year', 'gearbox', 'power_ps', 'model',\n",
    "       'odometer', 'registration_month', 'fuel_type', 'brand',\n",
    "       'unrepaired_damage', 'date_created', 'nr_of_pictures', 'postal_code',\n",
    "       'last_seen']\n",
    "autos.head()"
   ]
  },
  {
   "cell_type": "markdown",
   "id": "7031ffc1-92a7-47b4-a1e1-4618ff1d50e8",
   "metadata": {},
   "source": [
    "In python the preferred way of writing indexes and variables is with snake casing. Therefore, I changed the column titles to conform with this norm as well as updated some of the titles to be easier to understand:\n",
    "* `yearOfRegistration` was changed to `registration_year`\n",
    "* `monthOfRegistration` was changed to `registration_month`\n",
    "* `notReparedDamage` was changed to `unrepaired_damage`\n",
    "* `dataCreated` was changed to `ad_created`"
   ]
  },
  {
   "cell_type": "markdown",
   "id": "2b7ccefa-d899-4e1e-97bd-1443685da8d4",
   "metadata": {
    "tags": []
   },
   "source": [
    "## Initial Exploration and Cleaning"
   ]
  },
  {
   "cell_type": "code",
   "execution_count": 6,
   "id": "dd04a6da-8e8d-4230-bc2f-87920cbb2905",
   "metadata": {
    "tags": []
   },
   "outputs": [
    {
     "data": {
      "text/html": [
       "<div>\n",
       "<style scoped>\n",
       "    .dataframe tbody tr th:only-of-type {\n",
       "        vertical-align: middle;\n",
       "    }\n",
       "\n",
       "    .dataframe tbody tr th {\n",
       "        vertical-align: top;\n",
       "    }\n",
       "\n",
       "    .dataframe thead th {\n",
       "        text-align: right;\n",
       "    }\n",
       "</style>\n",
       "<table border=\"1\" class=\"dataframe\">\n",
       "  <thead>\n",
       "    <tr style=\"text-align: right;\">\n",
       "      <th></th>\n",
       "      <th>date_crawled</th>\n",
       "      <th>name</th>\n",
       "      <th>seller</th>\n",
       "      <th>offer_type</th>\n",
       "      <th>price</th>\n",
       "      <th>abtest</th>\n",
       "      <th>vehicle_type</th>\n",
       "      <th>registration_year</th>\n",
       "      <th>gearbox</th>\n",
       "      <th>power_ps</th>\n",
       "      <th>model</th>\n",
       "      <th>odometer</th>\n",
       "      <th>registration_month</th>\n",
       "      <th>fuel_type</th>\n",
       "      <th>brand</th>\n",
       "      <th>unrepaired_damage</th>\n",
       "      <th>date_created</th>\n",
       "      <th>nr_of_pictures</th>\n",
       "      <th>postal_code</th>\n",
       "      <th>last_seen</th>\n",
       "    </tr>\n",
       "  </thead>\n",
       "  <tbody>\n",
       "    <tr>\n",
       "      <th>count</th>\n",
       "      <td>50000</td>\n",
       "      <td>50000</td>\n",
       "      <td>50000</td>\n",
       "      <td>50000</td>\n",
       "      <td>50000</td>\n",
       "      <td>50000</td>\n",
       "      <td>44905</td>\n",
       "      <td>50000.000000</td>\n",
       "      <td>47320</td>\n",
       "      <td>50000.000000</td>\n",
       "      <td>47242</td>\n",
       "      <td>50000</td>\n",
       "      <td>50000.000000</td>\n",
       "      <td>45518</td>\n",
       "      <td>50000</td>\n",
       "      <td>40171</td>\n",
       "      <td>50000</td>\n",
       "      <td>50000.0</td>\n",
       "      <td>50000.000000</td>\n",
       "      <td>50000</td>\n",
       "    </tr>\n",
       "    <tr>\n",
       "      <th>unique</th>\n",
       "      <td>48213</td>\n",
       "      <td>38754</td>\n",
       "      <td>2</td>\n",
       "      <td>2</td>\n",
       "      <td>2357</td>\n",
       "      <td>2</td>\n",
       "      <td>8</td>\n",
       "      <td>NaN</td>\n",
       "      <td>2</td>\n",
       "      <td>NaN</td>\n",
       "      <td>245</td>\n",
       "      <td>13</td>\n",
       "      <td>NaN</td>\n",
       "      <td>7</td>\n",
       "      <td>40</td>\n",
       "      <td>2</td>\n",
       "      <td>76</td>\n",
       "      <td>NaN</td>\n",
       "      <td>NaN</td>\n",
       "      <td>39481</td>\n",
       "    </tr>\n",
       "    <tr>\n",
       "      <th>top</th>\n",
       "      <td>2016-04-02 11:37:04</td>\n",
       "      <td>Ford_Fiesta</td>\n",
       "      <td>privat</td>\n",
       "      <td>Angebot</td>\n",
       "      <td>$0</td>\n",
       "      <td>test</td>\n",
       "      <td>limousine</td>\n",
       "      <td>NaN</td>\n",
       "      <td>manuell</td>\n",
       "      <td>NaN</td>\n",
       "      <td>golf</td>\n",
       "      <td>150,000km</td>\n",
       "      <td>NaN</td>\n",
       "      <td>benzin</td>\n",
       "      <td>volkswagen</td>\n",
       "      <td>nein</td>\n",
       "      <td>2016-04-03 00:00:00</td>\n",
       "      <td>NaN</td>\n",
       "      <td>NaN</td>\n",
       "      <td>2016-04-07 06:17:27</td>\n",
       "    </tr>\n",
       "    <tr>\n",
       "      <th>freq</th>\n",
       "      <td>3</td>\n",
       "      <td>78</td>\n",
       "      <td>49999</td>\n",
       "      <td>49999</td>\n",
       "      <td>1421</td>\n",
       "      <td>25756</td>\n",
       "      <td>12859</td>\n",
       "      <td>NaN</td>\n",
       "      <td>36993</td>\n",
       "      <td>NaN</td>\n",
       "      <td>4024</td>\n",
       "      <td>32424</td>\n",
       "      <td>NaN</td>\n",
       "      <td>30107</td>\n",
       "      <td>10687</td>\n",
       "      <td>35232</td>\n",
       "      <td>1946</td>\n",
       "      <td>NaN</td>\n",
       "      <td>NaN</td>\n",
       "      <td>8</td>\n",
       "    </tr>\n",
       "    <tr>\n",
       "      <th>mean</th>\n",
       "      <td>NaN</td>\n",
       "      <td>NaN</td>\n",
       "      <td>NaN</td>\n",
       "      <td>NaN</td>\n",
       "      <td>NaN</td>\n",
       "      <td>NaN</td>\n",
       "      <td>NaN</td>\n",
       "      <td>2005.073280</td>\n",
       "      <td>NaN</td>\n",
       "      <td>116.355920</td>\n",
       "      <td>NaN</td>\n",
       "      <td>NaN</td>\n",
       "      <td>5.723360</td>\n",
       "      <td>NaN</td>\n",
       "      <td>NaN</td>\n",
       "      <td>NaN</td>\n",
       "      <td>NaN</td>\n",
       "      <td>0.0</td>\n",
       "      <td>50813.627300</td>\n",
       "      <td>NaN</td>\n",
       "    </tr>\n",
       "    <tr>\n",
       "      <th>std</th>\n",
       "      <td>NaN</td>\n",
       "      <td>NaN</td>\n",
       "      <td>NaN</td>\n",
       "      <td>NaN</td>\n",
       "      <td>NaN</td>\n",
       "      <td>NaN</td>\n",
       "      <td>NaN</td>\n",
       "      <td>105.712813</td>\n",
       "      <td>NaN</td>\n",
       "      <td>209.216627</td>\n",
       "      <td>NaN</td>\n",
       "      <td>NaN</td>\n",
       "      <td>3.711984</td>\n",
       "      <td>NaN</td>\n",
       "      <td>NaN</td>\n",
       "      <td>NaN</td>\n",
       "      <td>NaN</td>\n",
       "      <td>0.0</td>\n",
       "      <td>25779.747957</td>\n",
       "      <td>NaN</td>\n",
       "    </tr>\n",
       "    <tr>\n",
       "      <th>min</th>\n",
       "      <td>NaN</td>\n",
       "      <td>NaN</td>\n",
       "      <td>NaN</td>\n",
       "      <td>NaN</td>\n",
       "      <td>NaN</td>\n",
       "      <td>NaN</td>\n",
       "      <td>NaN</td>\n",
       "      <td>1000.000000</td>\n",
       "      <td>NaN</td>\n",
       "      <td>0.000000</td>\n",
       "      <td>NaN</td>\n",
       "      <td>NaN</td>\n",
       "      <td>0.000000</td>\n",
       "      <td>NaN</td>\n",
       "      <td>NaN</td>\n",
       "      <td>NaN</td>\n",
       "      <td>NaN</td>\n",
       "      <td>0.0</td>\n",
       "      <td>1067.000000</td>\n",
       "      <td>NaN</td>\n",
       "    </tr>\n",
       "    <tr>\n",
       "      <th>25%</th>\n",
       "      <td>NaN</td>\n",
       "      <td>NaN</td>\n",
       "      <td>NaN</td>\n",
       "      <td>NaN</td>\n",
       "      <td>NaN</td>\n",
       "      <td>NaN</td>\n",
       "      <td>NaN</td>\n",
       "      <td>1999.000000</td>\n",
       "      <td>NaN</td>\n",
       "      <td>70.000000</td>\n",
       "      <td>NaN</td>\n",
       "      <td>NaN</td>\n",
       "      <td>3.000000</td>\n",
       "      <td>NaN</td>\n",
       "      <td>NaN</td>\n",
       "      <td>NaN</td>\n",
       "      <td>NaN</td>\n",
       "      <td>0.0</td>\n",
       "      <td>30451.000000</td>\n",
       "      <td>NaN</td>\n",
       "    </tr>\n",
       "    <tr>\n",
       "      <th>50%</th>\n",
       "      <td>NaN</td>\n",
       "      <td>NaN</td>\n",
       "      <td>NaN</td>\n",
       "      <td>NaN</td>\n",
       "      <td>NaN</td>\n",
       "      <td>NaN</td>\n",
       "      <td>NaN</td>\n",
       "      <td>2003.000000</td>\n",
       "      <td>NaN</td>\n",
       "      <td>105.000000</td>\n",
       "      <td>NaN</td>\n",
       "      <td>NaN</td>\n",
       "      <td>6.000000</td>\n",
       "      <td>NaN</td>\n",
       "      <td>NaN</td>\n",
       "      <td>NaN</td>\n",
       "      <td>NaN</td>\n",
       "      <td>0.0</td>\n",
       "      <td>49577.000000</td>\n",
       "      <td>NaN</td>\n",
       "    </tr>\n",
       "    <tr>\n",
       "      <th>75%</th>\n",
       "      <td>NaN</td>\n",
       "      <td>NaN</td>\n",
       "      <td>NaN</td>\n",
       "      <td>NaN</td>\n",
       "      <td>NaN</td>\n",
       "      <td>NaN</td>\n",
       "      <td>NaN</td>\n",
       "      <td>2008.000000</td>\n",
       "      <td>NaN</td>\n",
       "      <td>150.000000</td>\n",
       "      <td>NaN</td>\n",
       "      <td>NaN</td>\n",
       "      <td>9.000000</td>\n",
       "      <td>NaN</td>\n",
       "      <td>NaN</td>\n",
       "      <td>NaN</td>\n",
       "      <td>NaN</td>\n",
       "      <td>0.0</td>\n",
       "      <td>71540.000000</td>\n",
       "      <td>NaN</td>\n",
       "    </tr>\n",
       "    <tr>\n",
       "      <th>max</th>\n",
       "      <td>NaN</td>\n",
       "      <td>NaN</td>\n",
       "      <td>NaN</td>\n",
       "      <td>NaN</td>\n",
       "      <td>NaN</td>\n",
       "      <td>NaN</td>\n",
       "      <td>NaN</td>\n",
       "      <td>9999.000000</td>\n",
       "      <td>NaN</td>\n",
       "      <td>17700.000000</td>\n",
       "      <td>NaN</td>\n",
       "      <td>NaN</td>\n",
       "      <td>12.000000</td>\n",
       "      <td>NaN</td>\n",
       "      <td>NaN</td>\n",
       "      <td>NaN</td>\n",
       "      <td>NaN</td>\n",
       "      <td>0.0</td>\n",
       "      <td>99998.000000</td>\n",
       "      <td>NaN</td>\n",
       "    </tr>\n",
       "  </tbody>\n",
       "</table>\n",
       "</div>"
      ],
      "text/plain": [
       "               date_crawled         name  seller offer_type  price abtest  \\\n",
       "count                 50000        50000   50000      50000  50000  50000   \n",
       "unique                48213        38754       2          2   2357      2   \n",
       "top     2016-04-02 11:37:04  Ford_Fiesta  privat    Angebot     $0   test   \n",
       "freq                      3           78   49999      49999   1421  25756   \n",
       "mean                    NaN          NaN     NaN        NaN    NaN    NaN   \n",
       "std                     NaN          NaN     NaN        NaN    NaN    NaN   \n",
       "min                     NaN          NaN     NaN        NaN    NaN    NaN   \n",
       "25%                     NaN          NaN     NaN        NaN    NaN    NaN   \n",
       "50%                     NaN          NaN     NaN        NaN    NaN    NaN   \n",
       "75%                     NaN          NaN     NaN        NaN    NaN    NaN   \n",
       "max                     NaN          NaN     NaN        NaN    NaN    NaN   \n",
       "\n",
       "       vehicle_type  registration_year  gearbox      power_ps  model  \\\n",
       "count         44905       50000.000000    47320  50000.000000  47242   \n",
       "unique            8                NaN        2           NaN    245   \n",
       "top       limousine                NaN  manuell           NaN   golf   \n",
       "freq          12859                NaN    36993           NaN   4024   \n",
       "mean            NaN        2005.073280      NaN    116.355920    NaN   \n",
       "std             NaN         105.712813      NaN    209.216627    NaN   \n",
       "min             NaN        1000.000000      NaN      0.000000    NaN   \n",
       "25%             NaN        1999.000000      NaN     70.000000    NaN   \n",
       "50%             NaN        2003.000000      NaN    105.000000    NaN   \n",
       "75%             NaN        2008.000000      NaN    150.000000    NaN   \n",
       "max             NaN        9999.000000      NaN  17700.000000    NaN   \n",
       "\n",
       "         odometer  registration_month fuel_type       brand unrepaired_damage  \\\n",
       "count       50000        50000.000000     45518       50000             40171   \n",
       "unique         13                 NaN         7          40                 2   \n",
       "top     150,000km                 NaN    benzin  volkswagen              nein   \n",
       "freq        32424                 NaN     30107       10687             35232   \n",
       "mean          NaN            5.723360       NaN         NaN               NaN   \n",
       "std           NaN            3.711984       NaN         NaN               NaN   \n",
       "min           NaN            0.000000       NaN         NaN               NaN   \n",
       "25%           NaN            3.000000       NaN         NaN               NaN   \n",
       "50%           NaN            6.000000       NaN         NaN               NaN   \n",
       "75%           NaN            9.000000       NaN         NaN               NaN   \n",
       "max           NaN           12.000000       NaN         NaN               NaN   \n",
       "\n",
       "               date_created  nr_of_pictures   postal_code            last_seen  \n",
       "count                 50000         50000.0  50000.000000                50000  \n",
       "unique                   76             NaN           NaN                39481  \n",
       "top     2016-04-03 00:00:00             NaN           NaN  2016-04-07 06:17:27  \n",
       "freq                   1946             NaN           NaN                    8  \n",
       "mean                    NaN             0.0  50813.627300                  NaN  \n",
       "std                     NaN             0.0  25779.747957                  NaN  \n",
       "min                     NaN             0.0   1067.000000                  NaN  \n",
       "25%                     NaN             0.0  30451.000000                  NaN  \n",
       "50%                     NaN             0.0  49577.000000                  NaN  \n",
       "75%                     NaN             0.0  71540.000000                  NaN  \n",
       "max                     NaN             0.0  99998.000000                  NaN  "
      ]
     },
     "execution_count": 6,
     "metadata": {},
     "output_type": "execute_result"
    }
   ],
   "source": [
    "autos.describe(include=\"all\")"
   ]
  },
  {
   "cell_type": "markdown",
   "id": "7e0092d0-468d-4625-b63e-c0db0d2e1571",
   "metadata": {},
   "source": [
    "Here are the observations from the above description of the dataframe:\n",
    "1. The seller and offer_type column have only two unique entries of which one has 49,999 and the other has only one input in the whole dataset, meaning that they are candidates to be dropped.\n",
    "2. price and odometer seem to be saved as a data type other than a numerical one, so further investigation is necessary"
   ]
  },
  {
   "cell_type": "code",
   "execution_count": 7,
   "id": "a45766a3-b0a4-4967-9091-2c15023611ee",
   "metadata": {
    "tags": []
   },
   "outputs": [
    {
     "name": "stdout",
     "output_type": "stream",
     "text": [
      "seller\n",
      "privat        49999\n",
      "gewerblich        1\n",
      "Name: count, dtype: int64\n",
      "\n",
      "\n",
      "offer_type\n",
      "Angebot    49999\n",
      "Gesuch         1\n",
      "Name: count, dtype: int64\n",
      "\n",
      "\n",
      "price\n",
      "$0         1421\n",
      "$500        781\n",
      "$1,500      734\n",
      "$2,500      643\n",
      "$1,000      639\n",
      "           ... \n",
      "$414          1\n",
      "$79,933       1\n",
      "$5,198        1\n",
      "$18,890       1\n",
      "$16,995       1\n",
      "Name: count, Length: 2357, dtype: int64\n",
      "\n",
      "\n",
      "odometer\n",
      "150,000km    32424\n",
      "125,000km     5170\n",
      "100,000km     2169\n",
      "90,000km      1757\n",
      "80,000km      1436\n",
      "70,000km      1230\n",
      "60,000km      1164\n",
      "50,000km      1027\n",
      "5,000km        967\n",
      "40,000km       819\n",
      "30,000km       789\n",
      "20,000km       784\n",
      "10,000km       264\n",
      "Name: count, dtype: int64\n"
     ]
    }
   ],
   "source": [
    "seller_count = autos[\"seller\"].value_counts()\n",
    "offering_count = autos[\"offer_type\"].value_counts()\n",
    "price_count = autos[\"price\"].value_counts()\n",
    "odometer_count = autos[\"odometer\"].value_counts()\n",
    "\n",
    "print(seller_count)\n",
    "print('\\n')\n",
    "print(offering_count)\n",
    "print('\\n')\n",
    "print(price_count)\n",
    "print('\\n')\n",
    "print(odometer_count)"
   ]
  },
  {
   "cell_type": "markdown",
   "id": "0b7552f1-8e3c-480d-8ad1-42f14369a0df",
   "metadata": {},
   "source": [
    "First, we are going to convert the `price` and `odometer` column to numeric as well as rename the columns to better explain the numbers cointained in it"
   ]
  },
  {
   "cell_type": "code",
   "execution_count": 8,
   "id": "f6de9d19-34ba-4833-b19e-1f37a934516a",
   "metadata": {
    "tags": []
   },
   "outputs": [],
   "source": [
    "autos[\"price\"] = autos[\"price\"].str.replace(\"[$,]\", \"\", regex=True).astype(int)\n",
    "autos[\"odometer\"] = autos[\"odometer\"].str.replace(\"[km,]\", \"\", regex=True).astype(int)"
   ]
  },
  {
   "cell_type": "code",
   "execution_count": 9,
   "id": "f5701625-77ea-4ad0-aac5-d871f1f80943",
   "metadata": {
    "tags": []
   },
   "outputs": [],
   "source": [
    "autos.rename({\"odometer\": \"odometer_km\"}, axis=1, inplace=True)"
   ]
  },
  {
   "cell_type": "code",
   "execution_count": 10,
   "id": "0c9df12e-e073-4cfd-9fbc-1bb57559c800",
   "metadata": {
    "tags": []
   },
   "outputs": [
    {
     "name": "stdout",
     "output_type": "stream",
     "text": [
      "<class 'pandas.core.frame.DataFrame'>\n",
      "RangeIndex: 50000 entries, 0 to 49999\n",
      "Data columns (total 20 columns):\n",
      " #   Column              Non-Null Count  Dtype \n",
      "---  ------              --------------  ----- \n",
      " 0   date_crawled        50000 non-null  object\n",
      " 1   name                50000 non-null  object\n",
      " 2   seller              50000 non-null  object\n",
      " 3   offer_type          50000 non-null  object\n",
      " 4   price               50000 non-null  int64 \n",
      " 5   abtest              50000 non-null  object\n",
      " 6   vehicle_type        44905 non-null  object\n",
      " 7   registration_year   50000 non-null  int64 \n",
      " 8   gearbox             47320 non-null  object\n",
      " 9   power_ps            50000 non-null  int64 \n",
      " 10  model               47242 non-null  object\n",
      " 11  odometer_km         50000 non-null  int64 \n",
      " 12  registration_month  50000 non-null  int64 \n",
      " 13  fuel_type           45518 non-null  object\n",
      " 14  brand               50000 non-null  object\n",
      " 15  unrepaired_damage   40171 non-null  object\n",
      " 16  date_created        50000 non-null  object\n",
      " 17  nr_of_pictures      50000 non-null  int64 \n",
      " 18  postal_code         50000 non-null  int64 \n",
      " 19  last_seen           50000 non-null  object\n",
      "dtypes: int64(7), object(13)\n",
      "memory usage: 7.6+ MB\n"
     ]
    }
   ],
   "source": [
    "autos.info()"
   ]
  },
  {
   "cell_type": "code",
   "execution_count": 11,
   "id": "a39e57dc-dd2e-4de3-a7d8-7cc1438ae81a",
   "metadata": {
    "tags": []
   },
   "outputs": [
    {
     "name": "stdout",
     "output_type": "stream",
     "text": [
      "count     50000.000000\n",
      "mean     125732.700000\n",
      "std       40042.211706\n",
      "min        5000.000000\n",
      "25%      125000.000000\n",
      "50%      150000.000000\n",
      "75%      150000.000000\n",
      "max      150000.000000\n",
      "Name: odometer_km, dtype: float64\n",
      "odometer_km\n",
      "150000    32424\n",
      "125000     5170\n",
      "100000     2169\n",
      "90000      1757\n",
      "80000      1436\n",
      "70000      1230\n",
      "60000      1164\n",
      "50000      1027\n",
      "5000        967\n",
      "40000       819\n",
      "30000       789\n",
      "20000       784\n",
      "10000       264\n",
      "Name: count, dtype: int64\n"
     ]
    }
   ],
   "source": [
    "odometer_shape = autos[\"odometer_km\"].unique().shape[0]\n",
    "odometer_desc = autos[\"odometer_km\"].describe()\n",
    "print(odometer_desc)\n",
    "\n",
    "odometer_counts = autos[\"odometer_km\"].value_counts()\n",
    "print(odometer_counts)"
   ]
  },
  {
   "cell_type": "markdown",
   "id": "c565c83e-db1d-4014-a211-8a354eaae7a6",
   "metadata": {},
   "source": [
    "All of the odometer unique values seem to be appropriate, and therefore we wont consider any of them as outliers"
   ]
  },
  {
   "cell_type": "code",
   "execution_count": 12,
   "id": "c8e10b69-bcc0-466c-8bfa-73d00c6ee0b4",
   "metadata": {
    "tags": []
   },
   "outputs": [
    {
     "name": "stdout",
     "output_type": "stream",
     "text": [
      "count    5.000000e+04\n",
      "mean     9.840044e+03\n",
      "std      4.811044e+05\n",
      "min      0.000000e+00\n",
      "25%      1.100000e+03\n",
      "50%      2.950000e+03\n",
      "75%      7.200000e+03\n",
      "max      1.000000e+08\n",
      "Name: price, dtype: float64\n",
      "9840.04376\n",
      "\n",
      "\n",
      "price\n",
      "99999999       1\n",
      "27322222       1\n",
      "12345678       3\n",
      "11111111       2\n",
      "10000000       1\n",
      "            ... \n",
      "5              2\n",
      "3              1\n",
      "2              3\n",
      "1            156\n",
      "0           1421\n",
      "Name: count, Length: 2357, dtype: int64\n"
     ]
    }
   ],
   "source": [
    "price_shape = autos[\"price\"].unique().shape[0]\n",
    "price_desc = autos[\"price\"].describe()\n",
    "print(price_desc)\n",
    "\n",
    "price_counts = autos[\"price\"].value_counts().sort_index(ascending=False)\n",
    "mean_price = autos[\"price\"].mean()\n",
    "print(mean_price)\n",
    "print('\\n')\n",
    "print(price_counts)"
   ]
  },
  {
   "cell_type": "markdown",
   "id": "e52f51c4-66bd-4ffb-9188-e2462961ebfd",
   "metadata": {},
   "source": [
    "In the analysis of our car pricing dataset, we have identified outliers that significantly deviate from the typical price range. We will remove upper-bound outliers, which include extremely high prices well above the calculated outlier threshold of $16,350. This threshold was determined using the interquartile range (IQR) method, which is outlined below:\n",
    "\n",
    "1. **Calculate the Interquartile Range (IQR)**:\n",
    "   - IQR = Q3 - Q1\n",
    "   - Q1 (25th percentile) = $1,100\n",
    "   - Q3 (75th percentile) = $7,200\n",
    "   - IQR = $7,200 - $1,100 = $6,100\n",
    "\n",
    "2. **Calculate the Upper Bound**:\n",
    "   - Upper Bound = Q3 + 1.5 × IQR\n",
    "   - Upper Bound = $7,200 + 1.5 × $6,100 = $16,350\n",
    "\n",
    "Prices exceeding this upper bound, such as those in the multi-million range, are considered outliers. These outliers distort our statistical analysis due to their abnormal values compared to the general distribution of car prices. Additionally, we will also remove lower-bound outliers. These are prices at or near $0, which might represent non-standard transactions (e.g., salvage titles or giveaways) and are not indicative of the market values of operational vehicles. Therefore I will be removing any instances of prices below 10 dollars. Removing these outliers will help in achieving a more accurate and representative analysis of the dataset.\n"
   ]
  },
  {
   "cell_type": "code",
   "execution_count": 13,
   "id": "570d8ed4-4aa3-4524-81be-26aa35a3c194",
   "metadata": {
    "tags": []
   },
   "outputs": [
    {
     "name": "stdout",
     "output_type": "stream",
     "text": [
      "count    44631.000000\n",
      "mean      4104.456252\n",
      "std       3840.463580\n",
      "min         10.000000\n",
      "25%       1150.000000\n",
      "50%       2700.000000\n",
      "75%       5999.000000\n",
      "max      16350.000000\n",
      "Name: price, dtype: float64\n",
      "\n",
      "\n",
      "price\n",
      "16350     9\n",
      "16333     2\n",
      "16300    11\n",
      "16299     4\n",
      "16290     3\n",
      "         ..\n",
      "14        1\n",
      "13        2\n",
      "12        3\n",
      "11        2\n",
      "10        7\n",
      "Name: count, Length: 1526, dtype: int64\n"
     ]
    }
   ],
   "source": [
    "lower_bound = 10\n",
    "upper_bound = 16350\n",
    "\n",
    "autos = autos[autos[\"price\"].between(lower_bound, upper_bound)]\n",
    "print(autos[\"price\"].describe())\n",
    "print('\\n')\n",
    "print(autos[\"price\"].value_counts().sort_index(ascending=False))"
   ]
  },
  {
   "cell_type": "code",
   "execution_count": 14,
   "id": "4317efbe-dd55-471c-ae0c-bde2795febe9",
   "metadata": {},
   "outputs": [
    {
     "name": "stdout",
     "output_type": "stream",
     "text": [
      "<class 'pandas.core.frame.DataFrame'>\n",
      "Index: 44631 entries, 0 to 49999\n",
      "Data columns (total 20 columns):\n",
      " #   Column              Non-Null Count  Dtype \n",
      "---  ------              --------------  ----- \n",
      " 0   date_crawled        44631 non-null  object\n",
      " 1   name                44631 non-null  object\n",
      " 2   seller              44631 non-null  object\n",
      " 3   offer_type          44631 non-null  object\n",
      " 4   price               44631 non-null  int64 \n",
      " 5   abtest              44631 non-null  object\n",
      " 6   vehicle_type        40211 non-null  object\n",
      " 7   registration_year   44631 non-null  int64 \n",
      " 8   gearbox             42405 non-null  object\n",
      " 9   power_ps            44631 non-null  int64 \n",
      " 10  model               42339 non-null  object\n",
      " 11  odometer_km         44631 non-null  int64 \n",
      " 12  registration_month  44631 non-null  int64 \n",
      " 13  fuel_type           40768 non-null  object\n",
      " 14  brand               44631 non-null  object\n",
      " 15  unrepaired_damage   35846 non-null  object\n",
      " 16  date_created        44631 non-null  object\n",
      " 17  nr_of_pictures      44631 non-null  int64 \n",
      " 18  postal_code         44631 non-null  int64 \n",
      " 19  last_seen           44631 non-null  object\n",
      "dtypes: int64(7), object(13)\n",
      "memory usage: 7.2+ MB\n"
     ]
    }
   ],
   "source": [
    "autos.info()"
   ]
  },
  {
   "cell_type": "code",
   "execution_count": 15,
   "id": "bb0570b1-5e71-49bf-ade8-9f075d8d0b6a",
   "metadata": {
    "tags": []
   },
   "outputs": [
    {
     "data": {
      "text/html": [
       "<div>\n",
       "<style scoped>\n",
       "    .dataframe tbody tr th:only-of-type {\n",
       "        vertical-align: middle;\n",
       "    }\n",
       "\n",
       "    .dataframe tbody tr th {\n",
       "        vertical-align: top;\n",
       "    }\n",
       "\n",
       "    .dataframe thead th {\n",
       "        text-align: right;\n",
       "    }\n",
       "</style>\n",
       "<table border=\"1\" class=\"dataframe\">\n",
       "  <thead>\n",
       "    <tr style=\"text-align: right;\">\n",
       "      <th></th>\n",
       "      <th>date_crawled</th>\n",
       "      <th>last_seen</th>\n",
       "    </tr>\n",
       "  </thead>\n",
       "  <tbody>\n",
       "    <tr>\n",
       "      <th>0</th>\n",
       "      <td>2016-03-26 17:47:46</td>\n",
       "      <td>2016-04-06 06:45:54</td>\n",
       "    </tr>\n",
       "    <tr>\n",
       "      <th>1</th>\n",
       "      <td>2016-04-04 13:38:56</td>\n",
       "      <td>2016-04-06 14:45:08</td>\n",
       "    </tr>\n",
       "    <tr>\n",
       "      <th>2</th>\n",
       "      <td>2016-03-26 18:57:24</td>\n",
       "      <td>2016-04-06 20:15:37</td>\n",
       "    </tr>\n",
       "    <tr>\n",
       "      <th>3</th>\n",
       "      <td>2016-03-12 16:58:10</td>\n",
       "      <td>2016-03-15 03:16:28</td>\n",
       "    </tr>\n",
       "    <tr>\n",
       "      <th>4</th>\n",
       "      <td>2016-04-01 14:38:50</td>\n",
       "      <td>2016-04-01 14:38:50</td>\n",
       "    </tr>\n",
       "  </tbody>\n",
       "</table>\n",
       "</div>"
      ],
      "text/plain": [
       "          date_crawled            last_seen\n",
       "0  2016-03-26 17:47:46  2016-04-06 06:45:54\n",
       "1  2016-04-04 13:38:56  2016-04-06 14:45:08\n",
       "2  2016-03-26 18:57:24  2016-04-06 20:15:37\n",
       "3  2016-03-12 16:58:10  2016-03-15 03:16:28\n",
       "4  2016-04-01 14:38:50  2016-04-01 14:38:50"
      ]
     },
     "execution_count": 15,
     "metadata": {},
     "output_type": "execute_result"
    }
   ],
   "source": [
    "autos[['date_crawled','last_seen']][0:5]"
   ]
  },
  {
   "cell_type": "code",
   "execution_count": 16,
   "id": "aacfa907-3e41-4fd1-bf70-ae352a3d90ec",
   "metadata": {
    "tags": []
   },
   "outputs": [
    {
     "data": {
      "text/plain": [
       "date_crawled\n",
       "2016-03-05    0.025565\n",
       "2016-03-06    0.014026\n",
       "2016-03-07    0.036141\n",
       "2016-03-08    0.033609\n",
       "2016-03-09    0.033071\n",
       "2016-03-10    0.032735\n",
       "2016-03-11    0.032511\n",
       "2016-03-12    0.037440\n",
       "2016-03-13    0.015595\n",
       "2016-03-14    0.037082\n",
       "2016-03-15    0.034169\n",
       "2016-03-16    0.029845\n",
       "2016-03-17    0.031973\n",
       "2016-03-18    0.012771\n",
       "2016-03-19    0.034169\n",
       "2016-03-20    0.037620\n",
       "2016-03-21    0.037104\n",
       "2016-03-22    0.032668\n",
       "2016-03-23    0.032533\n",
       "2016-03-24    0.029441\n",
       "2016-03-25    0.031973\n",
       "2016-03-26    0.032645\n",
       "2016-03-27    0.030741\n",
       "2016-03-28    0.034774\n",
       "2016-03-29    0.034214\n",
       "2016-03-30    0.033923\n",
       "2016-03-31    0.031570\n",
       "2016-04-01    0.032847\n",
       "2016-04-02    0.034998\n",
       "2016-04-03    0.038493\n",
       "2016-04-04    0.036365\n",
       "2016-04-05    0.012928\n",
       "2016-04-06    0.003159\n",
       "2016-04-07    0.001300\n",
       "Name: proportion, dtype: float64"
      ]
     },
     "execution_count": 16,
     "metadata": {},
     "output_type": "execute_result"
    }
   ],
   "source": [
    "(autos[\"date_crawled\"].str[:10].value_counts(normalize=True, dropna=False).sort_index())"
   ]
  },
  {
   "cell_type": "code",
   "execution_count": 17,
   "id": "013a80d7-e868-4323-b057-f1421773a667",
   "metadata": {
    "tags": []
   },
   "outputs": [
    {
     "data": {
      "text/plain": [
       "date_crawled\n",
       "2016-04-07    0.001300\n",
       "2016-04-06    0.003159\n",
       "2016-03-18    0.012771\n",
       "2016-04-05    0.012928\n",
       "2016-03-06    0.014026\n",
       "2016-03-13    0.015595\n",
       "2016-03-05    0.025565\n",
       "2016-03-24    0.029441\n",
       "2016-03-16    0.029845\n",
       "2016-03-27    0.030741\n",
       "2016-03-31    0.031570\n",
       "2016-03-25    0.031973\n",
       "2016-03-17    0.031973\n",
       "2016-03-11    0.032511\n",
       "2016-03-23    0.032533\n",
       "2016-03-26    0.032645\n",
       "2016-03-22    0.032668\n",
       "2016-03-10    0.032735\n",
       "2016-04-01    0.032847\n",
       "2016-03-09    0.033071\n",
       "2016-03-08    0.033609\n",
       "2016-03-30    0.033923\n",
       "2016-03-19    0.034169\n",
       "2016-03-15    0.034169\n",
       "2016-03-29    0.034214\n",
       "2016-03-28    0.034774\n",
       "2016-04-02    0.034998\n",
       "2016-03-07    0.036141\n",
       "2016-04-04    0.036365\n",
       "2016-03-14    0.037082\n",
       "2016-03-21    0.037104\n",
       "2016-03-12    0.037440\n",
       "2016-03-20    0.037620\n",
       "2016-04-03    0.038493\n",
       "Name: proportion, dtype: float64"
      ]
     },
     "execution_count": 17,
     "metadata": {},
     "output_type": "execute_result"
    }
   ],
   "source": [
    "(autos[\"date_crawled\"]\n",
    "        .str[:10]\n",
    "        .value_counts(normalize=True, dropna=False)\n",
    "        .sort_values()\n",
    "        )"
   ]
  },
  {
   "cell_type": "markdown",
   "id": "faa8771c-7d4b-4071-ac71-ea1dd5d83c5b",
   "metadata": {},
   "source": [
    "It appears that the site was crawled daily for approximately one month between March and April 2016. The distribution of listings crawled each day seems to be fairly uniform."
   ]
  },
  {
   "cell_type": "code",
   "execution_count": 18,
   "id": "898e8723-9644-4e49-8d7a-3d82e2b5a681",
   "metadata": {
    "tags": []
   },
   "outputs": [
    {
     "data": {
      "text/plain": [
       "last_seen\n",
       "2016-03-05    0.001165\n",
       "2016-03-06    0.004593\n",
       "2016-03-07    0.005714\n",
       "2016-03-08    0.007842\n",
       "2016-03-09    0.010105\n",
       "2016-03-10    0.011113\n",
       "2016-03-11    0.013040\n",
       "2016-03-12    0.024938\n",
       "2016-03-13    0.009343\n",
       "2016-03-14    0.012883\n",
       "2016-03-15    0.016267\n",
       "2016-03-16    0.016961\n",
       "2016-03-17    0.029016\n",
       "2016-03-18    0.007551\n",
       "2016-03-19    0.016468\n",
       "2016-03-20    0.021218\n",
       "2016-03-21    0.021151\n",
       "2016-03-22    0.021935\n",
       "2016-03-23    0.019179\n",
       "2016-03-24    0.020434\n",
       "2016-03-25    0.019986\n",
       "2016-03-26    0.017253\n",
       "2016-03-27    0.016155\n",
       "2016-03-28    0.021711\n",
       "2016-03-29    0.023011\n",
       "2016-03-30    0.025453\n",
       "2016-03-31    0.024400\n",
       "2016-04-01    0.023392\n",
       "2016-04-02    0.025162\n",
       "2016-04-03    0.025655\n",
       "2016-04-04    0.025072\n",
       "2016-04-05    0.121485\n",
       "2016-04-06    0.214089\n",
       "2016-04-07    0.126258\n",
       "Name: proportion, dtype: float64"
      ]
     },
     "execution_count": 18,
     "metadata": {},
     "output_type": "execute_result"
    }
   ],
   "source": [
    "(autos[\"last_seen\"]\n",
    "        .str[:10]\n",
    "        .value_counts(normalize=True, dropna=False)\n",
    "        .sort_index()\n",
    "        )"
   ]
  },
  {
   "cell_type": "markdown",
   "id": "5acb82d4-72b2-4336-b5ac-f9f43706d6fc",
   "metadata": {},
   "source": [
    "The crawler captured the date when it last observed any listing, enabling us to identify the day a listing was likely removed, presumably due to the sale of the car.\n",
    "\n",
    "The last three days show a significantly higher number of 'last seen' values. Considering they are 6-10 times higher than the values from earlier days, it's improbable that this reflects a sudden surge in sales. Instead, it's more plausible that these values relate to the end of the crawling period rather than actual car sales."
   ]
  },
  {
   "cell_type": "code",
   "execution_count": 19,
   "id": "3da00cb9-67c3-4036-bf75-dcce31e924f8",
   "metadata": {
    "tags": []
   },
   "outputs": [
    {
     "data": {
      "text/plain": [
       "count    44631.000000\n",
       "mean      2003.991441\n",
       "std         74.952291\n",
       "min       1000.000000\n",
       "25%       1999.000000\n",
       "50%       2003.000000\n",
       "75%       2007.000000\n",
       "max       9999.000000\n",
       "Name: registration_year, dtype: float64"
      ]
     },
     "execution_count": 19,
     "metadata": {},
     "output_type": "execute_result"
    }
   ],
   "source": [
    "autos[\"registration_year\"].describe()"
   ]
  },
  {
   "cell_type": "markdown",
   "id": "2ba9cc0e-189d-4b54-b89c-f0f84a3046fe",
   "metadata": {},
   "source": [
    "The year of the car's first registration can provide insight into its age. Upon examining this column, we observe some unusual values. The minimum value is 1000, predating the invention of cars, while the maximum is 9999, far into the future.\n"
   ]
  },
  {
   "cell_type": "markdown",
   "id": "fdf42d24-f5ae-46d8-a1ea-de93a1c1578f",
   "metadata": {},
   "source": [
    "Since a car cannot be registered before the listing was observed, any vehicle with a registration year above 2016 is certainly incorrect. Establishing the earliest plausible year is challenging, but it likely falls within the initial decades of the 1900s.\n",
    "\n",
    "One approach is to exclude listings with these anomalous values. Let's calculate the percentage of our dataset that contains invalid values in this column:\n"
   ]
  },
  {
   "cell_type": "code",
   "execution_count": 20,
   "id": "55e19686-86c7-4afb-9a95-68b25027c78d",
   "metadata": {
    "tags": []
   },
   "outputs": [
    {
     "data": {
      "text/plain": [
       "4.098048441666107"
      ]
     },
     "execution_count": 20,
     "metadata": {},
     "output_type": "execute_result"
    }
   ],
   "source": [
    "((~autos[\"registration_year\"].between(1900,2016)).sum() / autos.shape[0]) * 100"
   ]
  },
  {
   "cell_type": "markdown",
   "id": "8cba3f05-0ecb-4267-939a-661a540ffb02",
   "metadata": {},
   "source": [
    "Given that this represents almost 4.1% of our dataset, we will remove these rows."
   ]
  },
  {
   "cell_type": "code",
   "execution_count": 21,
   "id": "3c3127b9-a0c8-44e7-ad74-e2a47d651356",
   "metadata": {
    "tags": []
   },
   "outputs": [
    {
     "data": {
      "text/plain": [
       "registration_year\n",
       "2000    0.072754\n",
       "2005    0.067263\n",
       "1999    0.067216\n",
       "2003    0.062287\n",
       "2004    0.062053\n",
       "2001    0.061025\n",
       "2006    0.060348\n",
       "2002    0.057334\n",
       "1998    0.054624\n",
       "2007    0.049624\n",
       "Name: proportion, dtype: float64"
      ]
     },
     "execution_count": 21,
     "metadata": {},
     "output_type": "execute_result"
    }
   ],
   "source": [
    "autos = autos[autos[\"registration_year\"].between(1900,2016)]\n",
    "autos[\"registration_year\"].value_counts(normalize=True).head(10)"
   ]
  },
  {
   "cell_type": "markdown",
   "id": "7ae65f72-99aa-49c0-9be4-b629c7a4537b",
   "metadata": {
    "tags": []
   },
   "source": [
    "## Exploring Price by Brand"
   ]
  },
  {
   "cell_type": "code",
   "execution_count": 22,
   "id": "280a6867-e56e-4d20-8f3b-84bd7a8e8840",
   "metadata": {
    "tags": []
   },
   "outputs": [
    {
     "data": {
      "text/plain": [
       "brand\n",
       "volkswagen        0.214873\n",
       "opel              0.114971\n",
       "bmw               0.103430\n",
       "mercedes_benz     0.088103\n",
       "audi              0.077590\n",
       "ford              0.073198\n",
       "renault           0.050769\n",
       "peugeot           0.032218\n",
       "fiat              0.027802\n",
       "seat              0.019065\n",
       "skoda             0.017009\n",
       "mazda             0.016144\n",
       "nissan            0.015817\n",
       "smart             0.015420\n",
       "citroen           0.015069\n",
       "toyota            0.013411\n",
       "hyundai           0.010560\n",
       "volvo             0.009322\n",
       "mitsubishi        0.008668\n",
       "honda             0.008341\n",
       "sonstige_autos    0.008294\n",
       "mini              0.007757\n",
       "alfa_romeo        0.007009\n",
       "kia               0.006986\n",
       "suzuki            0.006378\n",
       "chevrolet         0.005747\n",
       "chrysler          0.003762\n",
       "dacia             0.002874\n",
       "daihatsu          0.002734\n",
       "subaru            0.002196\n",
       "jeep              0.002009\n",
       "porsche           0.001822\n",
       "saab              0.001776\n",
       "daewoo            0.001635\n",
       "trabant           0.001519\n",
       "rover             0.001425\n",
       "land_rover        0.001308\n",
       "jaguar            0.001238\n",
       "lancia            0.001121\n",
       "lada              0.000631\n",
       "Name: proportion, dtype: float64"
      ]
     },
     "execution_count": 22,
     "metadata": {},
     "output_type": "execute_result"
    }
   ],
   "source": [
    "autos[\"brand\"].value_counts(normalize=True)"
   ]
  },
  {
   "cell_type": "markdown",
   "id": "ced3a8f1-135f-467d-8095-244b47574103",
   "metadata": {
    "tags": []
   },
   "source": [
    "German manufacturers dominate the top five brands, accounting for nearly 50% of the total listings. Volkswagen stands out as the most popular brand, boasting roughly twice the number of cars for sale compared to the next two brands combined.\n",
    "\n",
    "Given that numerous brands have a negligible share of listings, we will focus our analysis on brands that make up more than 5% of the total listings."
   ]
  },
  {
   "cell_type": "code",
   "execution_count": 23,
   "id": "ad474a05-afb8-48e9-881f-d3ef946a84dc",
   "metadata": {
    "tags": []
   },
   "outputs": [
    {
     "name": "stdout",
     "output_type": "stream",
     "text": [
      "Index(['volkswagen', 'opel', 'bmw', 'mercedes_benz', 'audi', 'ford',\n",
      "       'renault'],\n",
      "      dtype='object', name='brand')\n"
     ]
    }
   ],
   "source": [
    "brand_counts = autos[\"brand\"].value_counts(normalize=True)\n",
    "common_brands = brand_counts[brand_counts > 0.05].index\n",
    "print(common_brands)"
   ]
  },
  {
   "cell_type": "code",
   "execution_count": 24,
   "id": "b1057d31-8a22-44c4-b4f7-c82254d1d12e",
   "metadata": {
    "tags": []
   },
   "outputs": [
    {
     "data": {
      "text/plain": [
       "{'volkswagen': 4196,\n",
       " 'opel': 2728,\n",
       " 'bmw': 5675,\n",
       " 'mercedes_benz': 5280,\n",
       " 'audi': 5722,\n",
       " 'ford': 2951,\n",
       " 'renault': 2289}"
      ]
     },
     "execution_count": 24,
     "metadata": {},
     "output_type": "execute_result"
    }
   ],
   "source": [
    "brand_mean_prices = {}\n",
    "\n",
    "for brand in common_brands:\n",
    "    curr_brand = autos[autos[\"brand\"] == brand]\n",
    "    mean_price = curr_brand[\"price\"].mean()\n",
    "    brand_mean_prices[brand] = int(mean_price)\n",
    "    \n",
    "brand_mean_prices"
   ]
  },
  {
   "cell_type": "markdown",
   "id": "ac9fa39d-936c-42f2-9917-3f24a59c6cac",
   "metadata": {},
   "source": [
    "Among the top 5 brands, there's a noticeable price disparity:\n",
    "\n",
    "* Audi, BMW, and Mercedes Benz command higher prices.\n",
    "* Ford and Opel offer more affordable options.\n",
    "* Volkswagen falls in the middle. Which makes sense as it is the most popular"
   ]
  },
  {
   "cell_type": "markdown",
   "id": "9317def7-221e-4aae-8329-4a0e575e8084",
   "metadata": {},
   "source": [
    "## Storing Aggregate Data in a DataFrame"
   ]
  },
  {
   "cell_type": "code",
   "execution_count": 25,
   "id": "fdb259fb-cf79-4a0c-923f-d21a7b119e70",
   "metadata": {
    "tags": []
   },
   "outputs": [
    {
     "data": {
      "text/plain": [
       "{'volkswagen': 82533,\n",
       " 'opel': 81095,\n",
       " 'bmw': 86271,\n",
       " 'mercedes_benz': 86060,\n",
       " 'audi': 86866,\n",
       " 'ford': 78885,\n",
       " 'renault': 80137}"
      ]
     },
     "execution_count": 25,
     "metadata": {},
     "output_type": "execute_result"
    }
   ],
   "source": [
    "brand_mean_milage = {}\n",
    "\n",
    "for brand in common_brands:\n",
    "    curr_brand = autos[autos[\"brand\"] == brand]\n",
    "    mean_milage = (curr_brand[\"odometer_km\"].mean()) * 0.621371\n",
    "    brand_mean_milage[brand] = int(mean_milage)\n",
    "    \n",
    "brand_mean_milage"
   ]
  },
  {
   "cell_type": "markdown",
   "id": "14b861fb-3be3-4e47-96fc-1580cae16d21",
   "metadata": {
    "tags": []
   },
   "source": [
    "### Please note that for each instance I divided the mean by 1.6 in order to transform the mean kilometers as recorded in the odometer to miles, for it be self descriptive"
   ]
  },
  {
   "cell_type": "code",
   "execution_count": 26,
   "id": "b31c3431-d770-4900-a7cd-d5f84c7929aa",
   "metadata": {
    "tags": []
   },
   "outputs": [
    {
     "data": {
      "text/html": [
       "<div>\n",
       "<style scoped>\n",
       "    .dataframe tbody tr th:only-of-type {\n",
       "        vertical-align: middle;\n",
       "    }\n",
       "\n",
       "    .dataframe tbody tr th {\n",
       "        vertical-align: top;\n",
       "    }\n",
       "\n",
       "    .dataframe thead th {\n",
       "        text-align: right;\n",
       "    }\n",
       "</style>\n",
       "<table border=\"1\" class=\"dataframe\">\n",
       "  <thead>\n",
       "    <tr style=\"text-align: right;\">\n",
       "      <th></th>\n",
       "      <th>mean_milage</th>\n",
       "      <th>mean_prices</th>\n",
       "    </tr>\n",
       "  </thead>\n",
       "  <tbody>\n",
       "    <tr>\n",
       "      <th>audi</th>\n",
       "      <td>86866</td>\n",
       "      <td>5722</td>\n",
       "    </tr>\n",
       "    <tr>\n",
       "      <th>bmw</th>\n",
       "      <td>86271</td>\n",
       "      <td>5675</td>\n",
       "    </tr>\n",
       "    <tr>\n",
       "      <th>mercedes_benz</th>\n",
       "      <td>86060</td>\n",
       "      <td>5280</td>\n",
       "    </tr>\n",
       "    <tr>\n",
       "      <th>volkswagen</th>\n",
       "      <td>82533</td>\n",
       "      <td>4196</td>\n",
       "    </tr>\n",
       "    <tr>\n",
       "      <th>opel</th>\n",
       "      <td>81095</td>\n",
       "      <td>2728</td>\n",
       "    </tr>\n",
       "    <tr>\n",
       "      <th>renault</th>\n",
       "      <td>80137</td>\n",
       "      <td>2289</td>\n",
       "    </tr>\n",
       "    <tr>\n",
       "      <th>ford</th>\n",
       "      <td>78885</td>\n",
       "      <td>2951</td>\n",
       "    </tr>\n",
       "  </tbody>\n",
       "</table>\n",
       "</div>"
      ],
      "text/plain": [
       "               mean_milage  mean_prices\n",
       "audi                 86866         5722\n",
       "bmw                  86271         5675\n",
       "mercedes_benz        86060         5280\n",
       "volkswagen           82533         4196\n",
       "opel                 81095         2728\n",
       "renault              80137         2289\n",
       "ford                 78885         2951"
      ]
     },
     "execution_count": 26,
     "metadata": {},
     "output_type": "execute_result"
    }
   ],
   "source": [
    "mean_milage = pd.Series(brand_mean_milage).sort_values(ascending=False)\n",
    "mean_prices = pd.Series(brand_mean_prices).sort_values(ascending=False)\n",
    "\n",
    "brand_info = pd.DataFrame(mean_milage, columns=[\"mean_milage\"])\n",
    "brand_info[\"mean_prices\"] = mean_prices\n",
    "brand_info"
   ]
  },
  {
   "cell_type": "markdown",
   "id": "292fe8c0-df10-4f92-a2cb-ec1c7fb3eff0",
   "metadata": {},
   "source": [
    "## Conclusion\n",
    "\n",
    "### Brand Analysis\n",
    "German manufacturers dominate the top 5 brands, accounting for nearly 50% of the total listings. Volkswagen stands out as the most popular brand, boasting roughly twice the number of cars for sale compared to the next two brands combined. Among these top brands, there's a noticeable price disparity:\n",
    "* Audi, BMW, and Mercedes Benz command higher prices.\n",
    "* Ford and Opel offer more affordable options.\n",
    "* Volkswagen falls in the middle, possibly explaining its popularity as a 'best of both worlds' choice.\n",
    "\n",
    "### Price and Mileage Trends\n",
    "The range of car mileages doesn't fluctuate as significantly as the prices do across brands, with all falling within a 10% range for the top brands. There's a slight trend indicating that more expensive vehicles tend to have higher mileage, while less expensive vehicles generally have lower mileage.\n",
    "\n",
    "### Additional Considerations\n",
    "While price and mileage are key factors influencing consumer choices, other variables such as model year, vehicle condition, and optional features can also play significant roles. Brand reputation, reliability, and market demand further impact consumer preferences and resale values.\n",
    "\n",
    "### Next Steps\n",
    "To gain a more comprehensive understanding of the market dynamics and consumer behavior, it would be beneficial to explore these additional variables. Analyzing factors like geographical distribution of listings, seasonal trends, and specific optional features might provide further insights into buying patterns and market trends."
   ]
  }
 ],
 "metadata": {
  "kernelspec": {
   "display_name": "Python 3 (ipykernel)",
   "language": "python",
   "name": "python3"
  },
  "language_info": {
   "codemirror_mode": {
    "name": "ipython",
    "version": 3
   },
   "file_extension": ".py",
   "mimetype": "text/x-python",
   "name": "python",
   "nbconvert_exporter": "python",
   "pygments_lexer": "ipython3",
   "version": "3.11.5"
  }
 },
 "nbformat": 4,
 "nbformat_minor": 5
}
